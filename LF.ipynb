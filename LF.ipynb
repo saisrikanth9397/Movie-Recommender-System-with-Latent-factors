{
  "nbformat": 4,
  "nbformat_minor": 0,
  "metadata": {
    "colab": {
      "name": "LF.ipynb",
      "provenance": [],
      "collapsed_sections": []
    },
    "kernelspec": {
      "name": "python3",
      "display_name": "Python 3"
    },
    "language_info": {
      "name": "python"
    }
  },
  "cells": [
    {
      "cell_type": "markdown",
      "metadata": {
        "id": "dMTfIArYIi1e"
      },
      "source": [
        "##SAI SRIKANTH SARABU\n",
        "##CWID : A20343781"
      ]
    },
    {
      "cell_type": "code",
      "metadata": {
        "id": "WdunTsLgIdDU"
      },
      "source": [
        "import numpy as np\n",
        "from numpy.linalg import norm\n",
        "import matplotlib.pyplot as plt\n",
        "from collections import defaultdict"
      ],
      "execution_count": 1,
      "outputs": []
    },
    {
      "cell_type": "code",
      "metadata": {
        "colab": {
          "base_uri": "https://localhost:8080/"
        },
        "id": "7i5mIBxVTVdE",
        "outputId": "a754fb4e-39a0-43a8-aad8-976edefc80e1"
      },
      "source": [
        "from google.colab import drive\n",
        "drive.mount('/content/drive')"
      ],
      "execution_count": 2,
      "outputs": [
        {
          "output_type": "stream",
          "name": "stdout",
          "text": [
            "Mounted at /content/drive\n"
          ]
        }
      ]
    },
    {
      "cell_type": "code",
      "metadata": {
        "id": "DMcrt5kJUH2z"
      },
      "source": [
        "training_dataPath= '/content/drive/MyDrive/Sample Data/Prj 4/training_dataset.csv' #paths of training and test data set\n",
        "testing_dataPath = '/content/drive/MyDrive/Sample Data/Prj 4/test_dataset.csv'"
      ],
      "execution_count": 3,
      "outputs": []
    },
    {
      "cell_type": "code",
      "metadata": {
        "id": "PFhO6SwIZQ_g"
      },
      "source": [
        "usrIdMax = -np.inf                        #initilizing usrIdMax with negative inifinity to store max user ID\n",
        "movIdMax = -np.inf                        #initilizing movIdMax with negative inifinity to store max movie ID                        \n",
        "usrAvgDict = defaultdict(list)            #default dictionary to store avg rating of each user\n",
        "moviesSet = set()                         #All movies set\n",
        "usersSet = set()                          #All users set\n",
        "with open(training_dataPath) as f:        \n",
        "  next(f)                                           \n",
        "  for line in f:                          #reading each line from training csv file\n",
        "    lis = line.split(',')                 \n",
        "    usr = int(lis[0])                     #converting string to int and reading user id         \n",
        "    mov = int(lis[1])                     #converting string to int and reading movie id\n",
        "    rat = int(lis[2])                     #converting string to int and reading rating \n",
        "    if usr > usrIdMax:                    #checking for max user id\n",
        "      usrIdMax = usr                      #here we get max user Id upon completion of complete iteration\n",
        "    if mov > movIdMax:                    #checking for max user id  \n",
        "      movIdMax = mov                      #here we get max Movie Id upon completion of complete iteration\n",
        "    moviesSet.add(mov)                    #adding all the user ids to the set\n",
        "    usersSet.add(usr)                     #adding all the movie ids to the set\n",
        "    if usr not in usrAvgDict.keys():      #below loop is creating a dictionary of user id and the list as value which contains sum of all the ratings and no. of ratings, \n",
        "      usrAvgDict[usr].append(rat)         #appending rating to the list of dictionary value for first time occurance \n",
        "      usrAvgDict[usr].append(1)           #here I am appending the count of no of movies\n",
        "    else:\n",
        "      usrAvgDict[usr][0] += rat           #here we are adding all the movies rated by the same user\n",
        "      usrAvgDict[usr][1] += 1             #incrementing the count\n",
        "\n",
        "for i in usrAvgDict.keys():              #below loop is taking taking average of each user rating and changing the value of dictionary\n",
        "  usrAvgDict[i] = usrAvgDict[i][0]/usrAvgDict[i][1] "
      ],
      "execution_count": 4,
      "outputs": []
    },
    {
      "cell_type": "code",
      "metadata": {
        "id": "Tl-EvcJIVgk7"
      },
      "source": [
        "k = 25                #initializing no. of factors for P and Q matrices\n",
        "𝜇 = 0.002             #initializing learning rate\n",
        "𝜆 = 0.1               #iinitializing regularization parameter\n",
        "I = 40                #no. of Iterations\n",
        "P = np.random.uniform(low=0, high=np.sqrt(5/k), size=(usrIdMax+1,k))       #initializing P with random values between 0 and √5/k with size of no. of users and no. of factors\n",
        "Q = np.random.uniform(low=0, high=np.sqrt(5/k), size=(movIdMax+1,k))       #initializing Q with random values between 0 and √5/k with size of no. of movies and no. of factors\n",
        "ErrFuncList = []                                                           #Empty error function list\n",
        "\n",
        "#Below function is calculating the error for rating in after each iteration with regularization\n",
        "def getError():\n",
        "  errValue = 0                                             #initializing error value as 0\n",
        "  with open(training_dataPath) as f:                                      \n",
        "    next(f)                                                #ignoring first line       \n",
        "    for line in f:                                         #reading line by line from file\n",
        "      lis = line.split(',')                                               \n",
        "      usr = int(lis[0])                                    #converting string to int and reading user id \n",
        "      mov = int(lis[1])                                    #converting string to int and reading movie id \n",
        "      rat = int(lis[2])                                    #converting string to int and reading rating\n",
        "      errValue += pow((rat-np.dot(P[usr], Q[mov])),2)      #getting square of rating - qi*pu the first tern of the error equation\n",
        "  usersNorm = 0                                            \n",
        "  for i in range(len(moviesSet)):                         #below loop is to get L2 Norm of the all the Users\n",
        "    usersNorm +=pow(norm(Q[i]),2)\n",
        "  mvsNorm = 0\n",
        "  for i in range(len(usersSet)):                        #below loop is to get L2 Norm of the all the Movies\n",
        "    mvsNorm +=pow(norm(P[i]),2)\n",
        "  return errValue + 𝜆*(usersNorm+mvsNorm)                #adding error value and regularization to get final error and returning it\n",
        "\n",
        "\n",
        "\n",
        "for i in range(I):                              #iterating for 40 times\n",
        "  with open(training_dataPath) as f:  \n",
        "    next(f)                                         \n",
        "    for line in f:\n",
        "      lis = line.split(',') \n",
        "      usr = int(lis[0])                              \n",
        "      mov = int(lis[1])                              \n",
        "      rat = int(lis[2]) \n",
        "      𝜀 = 2*(rat - np.dot(P[usr], Q[mov]))      #calculating error derivative value\n",
        "      Q[mov] += 𝜇*(𝜀*P[usr] - 𝜆*Q[mov])         #updating the Qmovie value in the the Q matrix \n",
        "      P[usr] += 𝜇*(𝜀*Q[mov] - 𝜆*P[usr])         #updating the Puser value in the the P matrix\n",
        "    ErrFuncList.append(getError())              #calling getError() to get the error for that particular iteration and appending it to the list\n"
      ],
      "execution_count": 5,
      "outputs": []
    },
    {
      "cell_type": "code",
      "metadata": {
        "colab": {
          "base_uri": "https://localhost:8080/",
          "height": 295
        },
        "id": "eCW65L73u9Y4",
        "outputId": "c262e52a-2855-4bea-9f43-18e3f4d217e8"
      },
      "source": [
        "#plotting the graph between error function and iterations\n",
        "x = [i+1 for i in range(I)]\n",
        "plt.plot(x, ErrFuncList, label=\"Error function\");\n",
        "plt.title(\"Error Function vs Iterations\");\n",
        "plt.xlabel(\"Iterations\"); \n",
        "plt.ylabel(\"Error Function\");\n",
        "plt.legend(loc=0);"
      ],
      "execution_count": 6,
      "outputs": [
        {
          "output_type": "display_data",
          "data": {
            "image/png": "[encoded data removed]",
            "text/plain": [
              "<Figure size 432x288 with 1 Axes>"
            ]
          },
          "metadata": {
            "needs_background": "light"
          }
        }
      ]
    },
    {
      "cell_type": "code",
      "metadata": {
        "id": "xj-YD7AWHWU9"
      },
      "source": [
        "#RMSE function given\n",
        "from sklearn.metrics import mean_squared_error\n",
        "from math import sqrt\n",
        "def RMSE(y_actual, y_predicted):\n",
        "  rms = sqrt(mean_squared_error(y_actual, y_predicted))\n",
        "  return round(rms,4)"
      ],
      "execution_count": 7,
      "outputs": []
    },
    {
      "cell_type": "code",
      "metadata": {
        "id": "7Pp-E0eBVnTj",
        "colab": {
          "base_uri": "https://localhost:8080/"
        },
        "outputId": "9a4ef673-5f58-4918-eeae-518642e93041"
      },
      "source": [
        "#here we are geting all new movie ratings as average user rating\n",
        "predRatings = []                    #list to store predicted ratings\n",
        "actRatings = []                     #list to store actuall ratings\n",
        "with open(testing_dataPath) as f:\n",
        "  next(f)                                          \n",
        "  for line in f:\n",
        "    lis = line.split(',') \n",
        "    usr = int(lis[0])                              \n",
        "    mov = int(lis[1])                              \n",
        "    rat = int(lis[2])\n",
        "    actRatings.append(rat)                      #appending actual rating values to the list\n",
        "    if mov not in moviesSet:                    #here I am checking whether the movie is present in training data\n",
        "      predRatings.append(usrAvgDict[usr])       #appending the average user rating to the prediction list\n",
        "    else:\n",
        "      predRatings.append(np.dot(P[usr],Q[mov])) #appending the rating obtained by dor product of Puser and Qmovie after 40 iterations\n",
        "\n",
        "RMSE(actRatings,predRatings)    #RMSE from Latent factors and average user artings for new movies"
      ],
      "execution_count": 8,
      "outputs": [
        {
          "output_type": "execute_result",
          "data": {
            "text/plain": [
              "0.9183"
            ]
          },
          "metadata": {},
          "execution_count": 8
        }
      ]
    },
    {
      "cell_type": "code",
      "metadata": {
        "colab": {
          "base_uri": "https://localhost:8080/"
        },
        "id": "iTnKZ8utGqfd",
        "outputId": "49d312ac-28fd-4f9d-f5a4-f91e11e7bf11"
      },
      "source": [
        "#getting all the new movie ratings from P and Q\n",
        "predRatingsLF = []                    #list to store predicted ratings\n",
        "actRatings = []                     #list to store actuall ratings\n",
        "with open(testing_dataPath) as f:\n",
        "  next(f)                                          \n",
        "  for line in f:\n",
        "    lis = line.split(',') \n",
        "    usr = int(lis[0])                              \n",
        "    mov = int(lis[1])                              \n",
        "    rat = int(lis[2])\n",
        "    actRatings.append(rat)                      #appending actual rating values to the list\n",
        "    predRatingsLF.append(np.dot(P[usr],Q[mov])) #appending the rating obtained by dor product of Puser and Qmovie after 40 iterations\n",
        "\n",
        "RMSE(actRatings,predRatingsLF)      #RMSE completely from Latent factors"
      ],
      "execution_count": 9,
      "outputs": [
        {
          "output_type": "execute_result",
          "data": {
            "text/plain": [
              "0.9184"
            ]
          },
          "metadata": {},
          "execution_count": 9
        }
      ]
    },
    {
      "cell_type": "markdown",
      "metadata": {
        "id": "YZ96_8zYIwz9"
      },
      "source": [
        "**Comparision of Collaborative filtering and Latent factors**"
      ]
    },
    {
      "cell_type": "markdown",
      "metadata": {
        "id": "-bo18o2b8-e6"
      },
      "source": [
        "Comparing the result with collaborative filtering which has RMSE of 1.0984, and latent factor of 0.92, both the models are different in achieving the result, collaborative filtering model completley takes result from users and movies rating where as Latent factor with stocastic gradient decent randomly take a point on the graph and finds the error with actual rating and updating its P and Q matrices based on error to acheive optimized result with the help of learning rate, regularization parameter."
      ]
    },
    {
      "cell_type": "code",
      "metadata": {
        "id": "FLkXr-6RHO6D"
      },
      "source": [
        ""
      ],
      "execution_count": 9,
      "outputs": []
    }
  ]
}